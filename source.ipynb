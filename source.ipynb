{
 "cells": [
  {
   "attachments": {},
   "cell_type": "markdown",
   "metadata": {},
   "source": [
    "# Call Center Employee Burnout\n",
    "\n",
    "![Banner](./assets/banner.jpeg)"
   ]
  },
  {
   "attachments": {},
   "cell_type": "markdown",
   "metadata": {},
   "source": [
    "## Topic\n",
    "*What problem are you (or your stakeholder) trying to address?*\n",
    "\n",
    "With the growth of ecommerce, call centers are receiving more calls and chats that ever before. The interactions will range from product inquiry, order status, return details, and much more. This creates more and more interactions and volume that the customers need to take, which can lead to back to back interactions. The amount of work can and has led to burnout. Therefore, the problem I am hoping to bring up are: what steps can we take to address employee burnout? By addressing the causes of burnout, it will improve employee retention, improve customer satisfaction, and reduce costs going towards training new agents. "
   ]
  },
  {
   "attachments": {},
   "cell_type": "markdown",
   "metadata": {},
   "source": [
    "## Project Question\n",
    "*What specific question are you seeking to answer with this project?*\n",
    "What are main factors contributing to burnout among agents?\n",
    "\n",
    "How does the workload correlate with employee retention/turnover rates?\n",
    "\n",
    "What adjustments can be made to help reduce burnout?\n"
   ]
  },
  {
   "attachments": {},
   "cell_type": "markdown",
   "metadata": {},
   "source": [
    "## What would an answer look like?\n",
    "*What is your hypothesized answer to your question?*\n",
    "\n",
    "An answer would focus on addressing the barriers that cause employee burnout. For example, a line graph that tracks the number of agents who work from home and not quit. Or a heatmap that shows peak workload times in relation to burnout. "
   ]
  },
  {
   "attachments": {},
   "cell_type": "markdown",
   "metadata": {},
   "source": [
    "## Data Sources\n",
    "*What 3 data sources have you identified for this project?*\n",
    "The datasets that I am looking at are:\n",
    "- Employee Burnout\n",
    "    -This dataset is relevant to me because it provides a lot of information about factors that goes into burnout, such as work from home (WFM) status and mental fatigue. It has a wide set of information, that I believe I can get a lot of information from. With this dataset, I believe that I can make scatter and bar graphs to correlate factors in employee burnout. \n",
    "\n",
    "- Call-Center-Dataset\n",
    "    -With this dataset, it shows the type of call center, average handle time, and speed of answer. I believe with this dataset I can find a relationship with employee satisfaction and speed of answer/average handle time. I believe the higher speed of answer the lower the satisfaction rating, which will impact employee burnout.\n",
    "\n",
    "- Employee Turnover\n",
    "    -With this dataset, I was able to fix it, so I can now pull the information. But, it also provides a lot of information. This set gives information about the type of customer relations employement, gender, and anxiety. I believe the anxiety and industry columns with be the main columns I use to help support other visuals. The data here can work with the Occupational Employment and Wage Statistics, which will help determine the wage influence on the anxiety. For example, if a certain industry has a high turnover, high anxiety, and low wage, then it can help paint a bigger picture.\n",
    "\n",
    "- Occupational Employment and Wage Statisitics, May 2023\n",
    "    -This dataset provides information about different wages of different areas within customer relations. I believe this will work to support the data in the other datasets.  \n",
    "\n",
    "*How are you going to relate these datasets?*\n",
    "- By looking at the data by state, I hope to get an understanding about the main factors of burnout are. \n"
   ]
  },
  {
   "cell_type": "code",
   "execution_count": null,
   "metadata": {},
   "outputs": [
    {
     "data": {
      "text/html": [
       "<div>\n",
       "<style scoped>\n",
       "    .dataframe tbody tr th:only-of-type {\n",
       "        vertical-align: middle;\n",
       "    }\n",
       "\n",
       "    .dataframe tbody tr th {\n",
       "        vertical-align: top;\n",
       "    }\n",
       "\n",
       "    .dataframe thead th {\n",
       "        text-align: right;\n",
       "    }\n",
       "</style>\n",
       "<table border=\"1\" class=\"dataframe\">\n",
       "  <thead>\n",
       "    <tr style=\"text-align: right;\">\n",
       "      <th></th>\n",
       "      <th>Occupation (SOC code)</th>\n",
       "      <th>Employment(1)</th>\n",
       "      <th>Employment percent relative standard error(3)</th>\n",
       "      <th>Hourly mean wage</th>\n",
       "      <th>Annual mean wage(2)</th>\n",
       "      <th>Wage percent relative standard error(3)</th>\n",
       "      <th>Hourly 10th percentile wage</th>\n",
       "      <th>Hourly 25th percentile wage</th>\n",
       "      <th>Hourly median wage</th>\n",
       "      <th>Hourly 75th percentile wage</th>\n",
       "      <th>Hourly 90th percentile wage</th>\n",
       "      <th>Annual 10th percentile wage(2)</th>\n",
       "      <th>Annual 25th percentile wage(2)</th>\n",
       "      <th>Annual median wage(2)</th>\n",
       "      <th>Annual 75th percentile wage(2)</th>\n",
       "      <th>Annual 90th percentile wage(2)</th>\n",
       "    </tr>\n",
       "  </thead>\n",
       "  <tbody>\n",
       "    <tr>\n",
       "      <th>0</th>\n",
       "      <td>Apparel, Piece Goods, and Notions Merchant Who...</td>\n",
       "      <td>6220</td>\n",
       "      <td>5.1</td>\n",
       "      <td>22.18</td>\n",
       "      <td>46140</td>\n",
       "      <td>1.6</td>\n",
       "      <td>15.01</td>\n",
       "      <td>18.15</td>\n",
       "      <td>21.10</td>\n",
       "      <td>24.40</td>\n",
       "      <td>30.40</td>\n",
       "      <td>31220</td>\n",
       "      <td>37760</td>\n",
       "      <td>43880</td>\n",
       "      <td>50750</td>\n",
       "      <td>63240</td>\n",
       "    </tr>\n",
       "    <tr>\n",
       "      <th>1</th>\n",
       "      <td>Food and Beverage Retailers(445000)</td>\n",
       "      <td>106850</td>\n",
       "      <td>1.8</td>\n",
       "      <td>15.56</td>\n",
       "      <td>32360</td>\n",
       "      <td>0.4</td>\n",
       "      <td>11.44</td>\n",
       "      <td>13.38</td>\n",
       "      <td>14.96</td>\n",
       "      <td>17.40</td>\n",
       "      <td>19.22</td>\n",
       "      <td>23800</td>\n",
       "      <td>27820</td>\n",
       "      <td>31110</td>\n",
       "      <td>36190</td>\n",
       "      <td>39970</td>\n",
       "    </tr>\n",
       "    <tr>\n",
       "      <th>2</th>\n",
       "      <td>Food and Beverage Retailers (4451 and 4452 onl...</td>\n",
       "      <td>105990</td>\n",
       "      <td>1.8</td>\n",
       "      <td>15.55</td>\n",
       "      <td>32330</td>\n",
       "      <td>0.4</td>\n",
       "      <td>11.44</td>\n",
       "      <td>13.38</td>\n",
       "      <td>14.95</td>\n",
       "      <td>17.40</td>\n",
       "      <td>19.16</td>\n",
       "      <td>23790</td>\n",
       "      <td>27820</td>\n",
       "      <td>31100</td>\n",
       "      <td>36190</td>\n",
       "      <td>39840</td>\n",
       "    </tr>\n",
       "    <tr>\n",
       "      <th>3</th>\n",
       "      <td>Beer, Wine, and Liquor Retailers(445300)</td>\n",
       "      <td>870</td>\n",
       "      <td>26.3</td>\n",
       "      <td>16.94</td>\n",
       "      <td>35230</td>\n",
       "      <td>14.9</td>\n",
       "      <td>12.00</td>\n",
       "      <td>13.44</td>\n",
       "      <td>15.57</td>\n",
       "      <td>19.37</td>\n",
       "      <td>22.95</td>\n",
       "      <td>24960</td>\n",
       "      <td>27950</td>\n",
       "      <td>32380</td>\n",
       "      <td>40280</td>\n",
       "      <td>47730</td>\n",
       "    </tr>\n",
       "    <tr>\n",
       "      <th>4</th>\n",
       "      <td>Furniture, Home Furnishings, Electronics, and ...</td>\n",
       "      <td>21810</td>\n",
       "      <td>3.5</td>\n",
       "      <td>18.90</td>\n",
       "      <td>39310</td>\n",
       "      <td>1.3</td>\n",
       "      <td>13.30</td>\n",
       "      <td>15.39</td>\n",
       "      <td>18.05</td>\n",
       "      <td>21.09</td>\n",
       "      <td>24.70</td>\n",
       "      <td>27650</td>\n",
       "      <td>32010</td>\n",
       "      <td>37550</td>\n",
       "      <td>43870</td>\n",
       "      <td>51380</td>\n",
       "    </tr>\n",
       "  </tbody>\n",
       "</table>\n",
       "</div>"
      ],
      "text/plain": [
       "                               Occupation (SOC code)  Employment(1)  \\\n",
       "0  Apparel, Piece Goods, and Notions Merchant Who...           6220   \n",
       "1                Food and Beverage Retailers(445000)         106850   \n",
       "2  Food and Beverage Retailers (4451 and 4452 onl...         105990   \n",
       "3           Beer, Wine, and Liquor Retailers(445300)            870   \n",
       "4  Furniture, Home Furnishings, Electronics, and ...          21810   \n",
       "\n",
       "   Employment percent relative standard error(3)  Hourly mean wage  \\\n",
       "0                                            5.1             22.18   \n",
       "1                                            1.8             15.56   \n",
       "2                                            1.8             15.55   \n",
       "3                                           26.3             16.94   \n",
       "4                                            3.5             18.90   \n",
       "\n",
       "   Annual mean wage(2)  Wage percent relative standard error(3)  \\\n",
       "0                46140                                      1.6   \n",
       "1                32360                                      0.4   \n",
       "2                32330                                      0.4   \n",
       "3                35230                                     14.9   \n",
       "4                39310                                      1.3   \n",
       "\n",
       "   Hourly 10th percentile wage  Hourly 25th percentile wage  \\\n",
       "0                        15.01                        18.15   \n",
       "1                        11.44                        13.38   \n",
       "2                        11.44                        13.38   \n",
       "3                        12.00                        13.44   \n",
       "4                        13.30                        15.39   \n",
       "\n",
       "   Hourly median wage  Hourly 75th percentile wage  \\\n",
       "0               21.10                        24.40   \n",
       "1               14.96                        17.40   \n",
       "2               14.95                        17.40   \n",
       "3               15.57                        19.37   \n",
       "4               18.05                        21.09   \n",
       "\n",
       "   Hourly 90th percentile wage  Annual 10th percentile wage(2)  \\\n",
       "0                        30.40                           31220   \n",
       "1                        19.22                           23800   \n",
       "2                        19.16                           23790   \n",
       "3                        22.95                           24960   \n",
       "4                        24.70                           27650   \n",
       "\n",
       "   Annual 25th percentile wage(2)  Annual median wage(2)  \\\n",
       "0                           37760                  43880   \n",
       "1                           27820                  31110   \n",
       "2                           27820                  31100   \n",
       "3                           27950                  32380   \n",
       "4                           32010                  37550   \n",
       "\n",
       "   Annual 75th percentile wage(2)  Annual 90th percentile wage(2)  \n",
       "0                           50750                           63240  \n",
       "1                           36190                           39970  \n",
       "2                           36190                           39840  \n",
       "3                           40280                           47730  \n",
       "4                           43870                           51380  "
      ]
     },
     "execution_count": 18,
     "metadata": {},
     "output_type": "execute_result"
    }
   ],
   "source": [
    "# Occupational Employment and Wage Statisitics, May 2023\n",
    "import pandas as pd\n",
    "\n",
    "df = pd.read_csv('OES_Report.csv')\n",
    "\n",
    "df.head()\n"
   ]
  },
  {
   "cell_type": "code",
   "execution_count": 10,
   "metadata": {},
   "outputs": [
    {
     "data": {
      "text/html": [
       "<div>\n",
       "<style scoped>\n",
       "    .dataframe tbody tr th:only-of-type {\n",
       "        vertical-align: middle;\n",
       "    }\n",
       "\n",
       "    .dataframe tbody tr th {\n",
       "        vertical-align: top;\n",
       "    }\n",
       "\n",
       "    .dataframe thead th {\n",
       "        text-align: right;\n",
       "    }\n",
       "</style>\n",
       "<table border=\"1\" class=\"dataframe\">\n",
       "  <thead>\n",
       "    <tr style=\"text-align: right;\">\n",
       "      <th></th>\n",
       "      <th>Employee ID</th>\n",
       "      <th>Date of Joining</th>\n",
       "      <th>Gender</th>\n",
       "      <th>Company Type</th>\n",
       "      <th>WFH Setup Available</th>\n",
       "      <th>Designation</th>\n",
       "      <th>Resource Allocation</th>\n",
       "      <th>Mental Fatigue Score</th>\n",
       "      <th>Burn Rate</th>\n",
       "    </tr>\n",
       "  </thead>\n",
       "  <tbody>\n",
       "    <tr>\n",
       "      <th>0</th>\n",
       "      <td>fffe32003000360033003200</td>\n",
       "      <td>2008-09-30</td>\n",
       "      <td>Female</td>\n",
       "      <td>Service</td>\n",
       "      <td>No</td>\n",
       "      <td>2.0</td>\n",
       "      <td>3.0</td>\n",
       "      <td>3.8</td>\n",
       "      <td>0.16</td>\n",
       "    </tr>\n",
       "    <tr>\n",
       "      <th>1</th>\n",
       "      <td>fffe3700360033003500</td>\n",
       "      <td>2008-11-30</td>\n",
       "      <td>Male</td>\n",
       "      <td>Service</td>\n",
       "      <td>Yes</td>\n",
       "      <td>1.0</td>\n",
       "      <td>2.0</td>\n",
       "      <td>5.0</td>\n",
       "      <td>0.36</td>\n",
       "    </tr>\n",
       "    <tr>\n",
       "      <th>2</th>\n",
       "      <td>fffe31003300320037003900</td>\n",
       "      <td>2008-03-10</td>\n",
       "      <td>Female</td>\n",
       "      <td>Product</td>\n",
       "      <td>Yes</td>\n",
       "      <td>2.0</td>\n",
       "      <td>NaN</td>\n",
       "      <td>5.8</td>\n",
       "      <td>0.49</td>\n",
       "    </tr>\n",
       "    <tr>\n",
       "      <th>3</th>\n",
       "      <td>fffe32003400380032003900</td>\n",
       "      <td>2008-11-03</td>\n",
       "      <td>Male</td>\n",
       "      <td>Service</td>\n",
       "      <td>Yes</td>\n",
       "      <td>1.0</td>\n",
       "      <td>1.0</td>\n",
       "      <td>2.6</td>\n",
       "      <td>0.20</td>\n",
       "    </tr>\n",
       "    <tr>\n",
       "      <th>4</th>\n",
       "      <td>fffe31003900340031003600</td>\n",
       "      <td>2008-07-24</td>\n",
       "      <td>Female</td>\n",
       "      <td>Service</td>\n",
       "      <td>No</td>\n",
       "      <td>3.0</td>\n",
       "      <td>7.0</td>\n",
       "      <td>6.9</td>\n",
       "      <td>0.52</td>\n",
       "    </tr>\n",
       "  </tbody>\n",
       "</table>\n",
       "</div>"
      ],
      "text/plain": [
       "                Employee ID Date of Joining  Gender Company Type  \\\n",
       "0  fffe32003000360033003200      2008-09-30  Female      Service   \n",
       "1      fffe3700360033003500      2008-11-30    Male      Service   \n",
       "2  fffe31003300320037003900      2008-03-10  Female      Product   \n",
       "3  fffe32003400380032003900      2008-11-03    Male      Service   \n",
       "4  fffe31003900340031003600      2008-07-24  Female      Service   \n",
       "\n",
       "  WFH Setup Available  Designation  Resource Allocation  Mental Fatigue Score  \\\n",
       "0                  No          2.0                  3.0                   3.8   \n",
       "1                 Yes          1.0                  2.0                   5.0   \n",
       "2                 Yes          2.0                  NaN                   5.8   \n",
       "3                 Yes          1.0                  1.0                   2.6   \n",
       "4                  No          3.0                  7.0                   6.9   \n",
       "\n",
       "   Burn Rate  \n",
       "0       0.16  \n",
       "1       0.36  \n",
       "2       0.49  \n",
       "3       0.20  \n",
       "4       0.52  "
      ]
     },
     "execution_count": 10,
     "metadata": {},
     "output_type": "execute_result"
    }
   ],
   "source": [
    "#Employee Burnout\n",
    "train = pd.read_csv(\"train.csv\")\n",
    "\n",
    "train.head()"
   ]
  },
  {
   "cell_type": "code",
   "execution_count": 6,
   "metadata": {},
   "outputs": [
    {
     "data": {
      "text/html": [
       "<div>\n",
       "<style scoped>\n",
       "    .dataframe tbody tr th:only-of-type {\n",
       "        vertical-align: middle;\n",
       "    }\n",
       "\n",
       "    .dataframe tbody tr th {\n",
       "        vertical-align: top;\n",
       "    }\n",
       "\n",
       "    .dataframe thead th {\n",
       "        text-align: right;\n",
       "    }\n",
       "</style>\n",
       "<table border=\"1\" class=\"dataframe\">\n",
       "  <thead>\n",
       "    <tr style=\"text-align: right;\">\n",
       "      <th></th>\n",
       "      <th>Call Id</th>\n",
       "      <th>Agent</th>\n",
       "      <th>Date</th>\n",
       "      <th>Time</th>\n",
       "      <th>Topic</th>\n",
       "      <th>Answered (Y/N)</th>\n",
       "      <th>Resolved</th>\n",
       "      <th>Speed of answer in seconds</th>\n",
       "      <th>AvgTalkDuration</th>\n",
       "      <th>Satisfaction rating</th>\n",
       "    </tr>\n",
       "  </thead>\n",
       "  <tbody>\n",
       "    <tr>\n",
       "      <th>0</th>\n",
       "      <td>ID0001</td>\n",
       "      <td>Diane</td>\n",
       "      <td>2021-01-01</td>\n",
       "      <td>09:12:58</td>\n",
       "      <td>Contract related</td>\n",
       "      <td>Y</td>\n",
       "      <td>Y</td>\n",
       "      <td>109.0</td>\n",
       "      <td>00:02:23</td>\n",
       "      <td>3.0</td>\n",
       "    </tr>\n",
       "    <tr>\n",
       "      <th>1</th>\n",
       "      <td>ID0002</td>\n",
       "      <td>Becky</td>\n",
       "      <td>2021-01-01</td>\n",
       "      <td>09:12:58</td>\n",
       "      <td>Technical Support</td>\n",
       "      <td>Y</td>\n",
       "      <td>N</td>\n",
       "      <td>70.0</td>\n",
       "      <td>00:04:02</td>\n",
       "      <td>3.0</td>\n",
       "    </tr>\n",
       "    <tr>\n",
       "      <th>2</th>\n",
       "      <td>ID0003</td>\n",
       "      <td>Stewart</td>\n",
       "      <td>2021-01-01</td>\n",
       "      <td>09:47:31</td>\n",
       "      <td>Contract related</td>\n",
       "      <td>Y</td>\n",
       "      <td>Y</td>\n",
       "      <td>10.0</td>\n",
       "      <td>00:02:11</td>\n",
       "      <td>3.0</td>\n",
       "    </tr>\n",
       "    <tr>\n",
       "      <th>3</th>\n",
       "      <td>ID0004</td>\n",
       "      <td>Greg</td>\n",
       "      <td>2021-01-01</td>\n",
       "      <td>09:47:31</td>\n",
       "      <td>Contract related</td>\n",
       "      <td>Y</td>\n",
       "      <td>Y</td>\n",
       "      <td>53.0</td>\n",
       "      <td>00:00:37</td>\n",
       "      <td>2.0</td>\n",
       "    </tr>\n",
       "    <tr>\n",
       "      <th>4</th>\n",
       "      <td>ID0005</td>\n",
       "      <td>Becky</td>\n",
       "      <td>2021-01-01</td>\n",
       "      <td>10:00:29</td>\n",
       "      <td>Payment related</td>\n",
       "      <td>Y</td>\n",
       "      <td>Y</td>\n",
       "      <td>95.0</td>\n",
       "      <td>00:01:00</td>\n",
       "      <td>3.0</td>\n",
       "    </tr>\n",
       "  </tbody>\n",
       "</table>\n",
       "</div>"
      ],
      "text/plain": [
       "  Call Id    Agent        Date      Time              Topic Answered (Y/N)  \\\n",
       "0  ID0001    Diane  2021-01-01  09:12:58   Contract related              Y   \n",
       "1  ID0002    Becky  2021-01-01  09:12:58  Technical Support              Y   \n",
       "2  ID0003  Stewart  2021-01-01  09:47:31   Contract related              Y   \n",
       "3  ID0004     Greg  2021-01-01  09:47:31   Contract related              Y   \n",
       "4  ID0005    Becky  2021-01-01  10:00:29    Payment related              Y   \n",
       "\n",
       "  Resolved  Speed of answer in seconds AvgTalkDuration  Satisfaction rating  \n",
       "0        Y                       109.0        00:02:23                  3.0  \n",
       "1        N                        70.0        00:04:02                  3.0  \n",
       "2        Y                        10.0        00:02:11                  3.0  \n",
       "3        Y                        53.0        00:00:37                  2.0  \n",
       "4        Y                        95.0        00:01:00                  3.0  "
      ]
     },
     "execution_count": 6,
     "metadata": {},
     "output_type": "execute_result"
    }
   ],
   "source": [
    "data = pd.read_excel(\"01 Call-Center-Dataset.xlsx\")\n",
    "\n",
    "data.head()"
   ]
  },
  {
   "cell_type": "code",
   "execution_count": 8,
   "metadata": {},
   "outputs": [
    {
     "data": {
      "text/html": [
       "<div>\n",
       "<style scoped>\n",
       "    .dataframe tbody tr th:only-of-type {\n",
       "        vertical-align: middle;\n",
       "    }\n",
       "\n",
       "    .dataframe tbody tr th {\n",
       "        vertical-align: top;\n",
       "    }\n",
       "\n",
       "    .dataframe thead th {\n",
       "        text-align: right;\n",
       "    }\n",
       "</style>\n",
       "<table border=\"1\" class=\"dataframe\">\n",
       "  <thead>\n",
       "    <tr style=\"text-align: right;\">\n",
       "      <th></th>\n",
       "      <th>stage</th>\n",
       "      <th>event</th>\n",
       "      <th>gender</th>\n",
       "      <th>age</th>\n",
       "      <th>industry</th>\n",
       "      <th>profession</th>\n",
       "      <th>traffic</th>\n",
       "      <th>coach</th>\n",
       "      <th>head_gender</th>\n",
       "      <th>greywage</th>\n",
       "      <th>way</th>\n",
       "      <th>extraversion</th>\n",
       "      <th>independ</th>\n",
       "      <th>selfcontrol</th>\n",
       "      <th>anxiety</th>\n",
       "      <th>novator</th>\n",
       "    </tr>\n",
       "  </thead>\n",
       "  <tbody>\n",
       "    <tr>\n",
       "      <th>0</th>\n",
       "      <td>1</td>\n",
       "      <td>m</td>\n",
       "      <td>35.0</td>\n",
       "      <td>Banks</td>\n",
       "      <td>HR</td>\n",
       "      <td>rabrecNErab</td>\n",
       "      <td>no</td>\n",
       "      <td>f</td>\n",
       "      <td>white</td>\n",
       "      <td>bus</td>\n",
       "      <td>6.2</td>\n",
       "      <td>4.1</td>\n",
       "      <td>5.7</td>\n",
       "      <td>7.1</td>\n",
       "      <td>8.3</td>\n",
       "      <td>NaN</td>\n",
       "    </tr>\n",
       "    <tr>\n",
       "      <th>1</th>\n",
       "      <td>1</td>\n",
       "      <td>m</td>\n",
       "      <td>33.0</td>\n",
       "      <td>Banks</td>\n",
       "      <td>HR</td>\n",
       "      <td>empjs</td>\n",
       "      <td>no</td>\n",
       "      <td>m</td>\n",
       "      <td>white</td>\n",
       "      <td>bus</td>\n",
       "      <td>6.2</td>\n",
       "      <td>4.1</td>\n",
       "      <td>5.7</td>\n",
       "      <td>7.1</td>\n",
       "      <td>8.3</td>\n",
       "      <td>NaN</td>\n",
       "    </tr>\n",
       "    <tr>\n",
       "      <th>2</th>\n",
       "      <td>1</td>\n",
       "      <td>f</td>\n",
       "      <td>35.0</td>\n",
       "      <td>PowerGeneration</td>\n",
       "      <td>HR</td>\n",
       "      <td>rabrecNErab</td>\n",
       "      <td>no</td>\n",
       "      <td>m</td>\n",
       "      <td>white</td>\n",
       "      <td>bus</td>\n",
       "      <td>6.2</td>\n",
       "      <td>6.2</td>\n",
       "      <td>2.6</td>\n",
       "      <td>4.8</td>\n",
       "      <td>8.3</td>\n",
       "      <td>NaN</td>\n",
       "    </tr>\n",
       "    <tr>\n",
       "      <th>3</th>\n",
       "      <td>1</td>\n",
       "      <td>f</td>\n",
       "      <td>35.0</td>\n",
       "      <td>PowerGeneration</td>\n",
       "      <td>HR</td>\n",
       "      <td>rabrecNErab</td>\n",
       "      <td>no</td>\n",
       "      <td>m</td>\n",
       "      <td>white</td>\n",
       "      <td>bus</td>\n",
       "      <td>5.4</td>\n",
       "      <td>7.6</td>\n",
       "      <td>4.9</td>\n",
       "      <td>2.5</td>\n",
       "      <td>6.7</td>\n",
       "      <td>NaN</td>\n",
       "    </tr>\n",
       "    <tr>\n",
       "      <th>4</th>\n",
       "      <td>1</td>\n",
       "      <td>m</td>\n",
       "      <td>32.0</td>\n",
       "      <td>Retail</td>\n",
       "      <td>Commercial</td>\n",
       "      <td>youjs</td>\n",
       "      <td>yes</td>\n",
       "      <td>f</td>\n",
       "      <td>white</td>\n",
       "      <td>bus</td>\n",
       "      <td>3.0</td>\n",
       "      <td>4.1</td>\n",
       "      <td>8.0</td>\n",
       "      <td>7.1</td>\n",
       "      <td>3.7</td>\n",
       "      <td>NaN</td>\n",
       "    </tr>\n",
       "  </tbody>\n",
       "</table>\n",
       "</div>"
      ],
      "text/plain": [
       "   stage event  gender              age    industry   profession traffic  \\\n",
       "0      1     m    35.0            Banks          HR  rabrecNErab      no   \n",
       "1      1     m    33.0            Banks          HR        empjs      no   \n",
       "2      1     f    35.0  PowerGeneration          HR  rabrecNErab      no   \n",
       "3      1     f    35.0  PowerGeneration          HR  rabrecNErab      no   \n",
       "4      1     m    32.0           Retail  Commercial        youjs     yes   \n",
       "\n",
       "  coach head_gender greywage  way   extraversion  independ  selfcontrol  \\\n",
       "0     f       white      bus   6.2           4.1       5.7          7.1   \n",
       "1     m       white      bus   6.2           4.1       5.7          7.1   \n",
       "2     m       white      bus   6.2           6.2       2.6          4.8   \n",
       "3     m       white      bus   5.4           7.6       4.9          2.5   \n",
       "4     f       white      bus   3.0           4.1       8.0          7.1   \n",
       "\n",
       "   anxiety  novator  \n",
       "0      8.3      NaN  \n",
       "1      8.3      NaN  \n",
       "2      8.3      NaN  \n",
       "3      6.7      NaN  \n",
       "4      3.7      NaN  "
      ]
     },
     "execution_count": 8,
     "metadata": {},
     "output_type": "execute_result"
    }
   ],
   "source": [
    "#Turnover\n",
    "df2 = pd.read_csv(\"turnover.csv\")\n",
    "\n",
    "df2.head()\n"
   ]
  },
  {
   "attachments": {},
   "cell_type": "markdown",
   "metadata": {},
   "source": [
    "## Approach and Analysis\n",
    "*What is your approach to answering your project question?*\n",
    "*How will you use the identified data to answer your project question?*\n",
    "📝 <!-- Start Discussing the project here; you can add as many code cells as you need -->"
   ]
  },
  {
   "cell_type": "markdown",
   "metadata": {},
   "source": [
    "I will make graphs that will focus and highlight different factors. I imagine that there will be numerous factors that contribute to employee burnout. While I look into them, I want to determine and find out which one an employee could create a plan on ASAP to improve the work environment for their employee. For example, a burnout factor can be the interactions, such as the customers are rude. Unfortunately, there isn't anything an employer can do there. Therefore, I will analyze the data and see what can options exist to create short-term and long-term solutions. "
   ]
  },
  {
   "cell_type": "markdown",
   "metadata": {},
   "source": [
    "## Clean Dataset"
   ]
  },
  {
   "cell_type": "code",
   "execution_count": null,
   "metadata": {},
   "outputs": [
    {
     "name": "stdout",
     "output_type": "stream",
     "text": [
      "<class 'pandas.core.frame.DataFrame'>\n",
      "RangeIndex: 22750 entries, 0 to 22749\n",
      "Data columns (total 9 columns):\n",
      " #   Column                Non-Null Count  Dtype  \n",
      "---  ------                --------------  -----  \n",
      " 0   Employee ID           22750 non-null  object \n",
      " 1   Date of Joining       22750 non-null  object \n",
      " 2   Gender                22750 non-null  object \n",
      " 3   Company Type          22750 non-null  object \n",
      " 4   WFH Setup Available   22750 non-null  object \n",
      " 5   Designation           22750 non-null  float64\n",
      " 6   Resource Allocation   21369 non-null  float64\n",
      " 7   Mental Fatigue Score  20633 non-null  float64\n",
      " 8   Burn Rate             21626 non-null  float64\n",
      "dtypes: float64(4), object(5)\n",
      "memory usage: 1.6+ MB\n"
     ]
    },
    {
     "data": {
      "text/plain": [
       "(22750, 9)"
      ]
     },
     "execution_count": 11,
     "metadata": {},
     "output_type": "execute_result"
    }
   ],
   "source": [
    "#Cleaning the train dataset\n",
    "train.info()\n",
    "\n",
    "train.duplicated().sum()\n",
    "\n",
    "train.drop_duplicates(inplace=True)\n",
    "\n",
    "train.shape"
   ]
  },
  {
   "cell_type": "code",
   "execution_count": 12,
   "metadata": {},
   "outputs": [
    {
     "data": {
      "text/plain": [
       "Employee ID                0\n",
       "Date of Joining            0\n",
       "Gender                     0\n",
       "Company Type               0\n",
       "WFH Setup Available        0\n",
       "Designation                0\n",
       "Resource Allocation     1381\n",
       "Mental Fatigue Score    2117\n",
       "Burn Rate               1124\n",
       "dtype: int64"
      ]
     },
     "execution_count": 12,
     "metadata": {},
     "output_type": "execute_result"
    }
   ],
   "source": [
    "train.isnull().sum()"
   ]
  },
  {
   "cell_type": "code",
   "execution_count": 13,
   "metadata": {},
   "outputs": [],
   "source": [
    "train.dropna(subset=['Resource Allocation'], inplace=True)\n",
    "train.dropna(subset=['Mental Fatigue Score'], inplace =True)\n",
    "train.dropna(subset=['Burn Rate'], inplace=True)"
   ]
  },
  {
   "cell_type": "code",
   "execution_count": 14,
   "metadata": {},
   "outputs": [
    {
     "data": {
      "text/plain": [
       "Employee ID             0\n",
       "Date of Joining         0\n",
       "Gender                  0\n",
       "Company Type            0\n",
       "WFH Setup Available     0\n",
       "Designation             0\n",
       "Resource Allocation     0\n",
       "Mental Fatigue Score    0\n",
       "Burn Rate               0\n",
       "dtype: int64"
      ]
     },
     "execution_count": 14,
     "metadata": {},
     "output_type": "execute_result"
    }
   ],
   "source": [
    "train.isna().sum()"
   ]
  },
  {
   "cell_type": "code",
   "execution_count": 4,
   "metadata": {},
   "outputs": [
    {
     "name": "stdout",
     "output_type": "stream",
     "text": [
      "<class 'pandas.core.frame.DataFrame'>\n",
      "RangeIndex: 16 entries, 0 to 15\n",
      "Data columns (total 16 columns):\n",
      " #   Column                                         Non-Null Count  Dtype  \n",
      "---  ------                                         --------------  -----  \n",
      " 0   Occupation (SOC code)                          16 non-null     object \n",
      " 1   Employment(1)                                  16 non-null     int64  \n",
      " 2   Employment percent relative standard error(3)  16 non-null     float64\n",
      " 3   Hourly mean wage                               16 non-null     float64\n",
      " 4   Annual mean wage(2)                            16 non-null     int64  \n",
      " 5   Wage percent relative standard error(3)        16 non-null     float64\n",
      " 6   Hourly 10th percentile wage                    16 non-null     float64\n",
      " 7   Hourly 25th percentile wage                    16 non-null     float64\n",
      " 8   Hourly median wage                             16 non-null     float64\n",
      " 9   Hourly 75th percentile wage                    16 non-null     float64\n",
      " 10  Hourly 90th percentile wage                    16 non-null     float64\n",
      " 11  Annual 10th percentile wage(2)                 16 non-null     int64  \n",
      " 12  Annual 25th percentile wage(2)                 16 non-null     int64  \n",
      " 13  Annual median wage(2)                          16 non-null     int64  \n",
      " 14  Annual 75th percentile wage(2)                 16 non-null     int64  \n",
      " 15  Annual 90th percentile wage(2)                 16 non-null     int64  \n",
      "dtypes: float64(8), int64(7), object(1)\n",
      "memory usage: 2.1+ KB\n"
     ]
    },
    {
     "data": {
      "text/plain": [
       "Occupation (SOC code)                            0\n",
       "Employment(1)                                    0\n",
       "Employment percent relative standard error(3)    0\n",
       "Hourly mean wage                                 0\n",
       "Annual mean wage(2)                              0\n",
       "Wage percent relative standard error(3)          0\n",
       "Hourly 10th percentile wage                      0\n",
       "Hourly 25th percentile wage                      0\n",
       "Hourly median wage                               0\n",
       "Hourly 75th percentile wage                      0\n",
       "Hourly 90th percentile wage                      0\n",
       "Annual 10th percentile wage(2)                   0\n",
       "Annual 25th percentile wage(2)                   0\n",
       "Annual median wage(2)                            0\n",
       "Annual 75th percentile wage(2)                   0\n",
       "Annual 90th percentile wage(2)                   0\n",
       "dtype: int64"
      ]
     },
     "execution_count": 4,
     "metadata": {},
     "output_type": "execute_result"
    }
   ],
   "source": [
    "#Cleaning OES Report\n",
    "df.info()\n",
    "df.isna().sum()"
   ]
  },
  {
   "cell_type": "code",
   "execution_count": 7,
   "metadata": {},
   "outputs": [
    {
     "name": "stdout",
     "output_type": "stream",
     "text": [
      "<class 'pandas.core.frame.DataFrame'>\n",
      "RangeIndex: 5000 entries, 0 to 4999\n",
      "Data columns (total 10 columns):\n",
      " #   Column                      Non-Null Count  Dtype  \n",
      "---  ------                      --------------  -----  \n",
      " 0   Call Id                     5000 non-null   object \n",
      " 1   Agent                       5000 non-null   object \n",
      " 2   Date                        5000 non-null   object \n",
      " 3   Time                        5000 non-null   object \n",
      " 4   Topic                       5000 non-null   object \n",
      " 5   Answered (Y/N)              5000 non-null   object \n",
      " 6   Resolved                    5000 non-null   object \n",
      " 7   Speed of answer in seconds  4054 non-null   float64\n",
      " 8   AvgTalkDuration             4054 non-null   object \n",
      " 9   Satisfaction rating         4054 non-null   float64\n",
      "dtypes: float64(2), object(8)\n",
      "memory usage: 390.8+ KB\n"
     ]
    },
    {
     "data": {
      "text/plain": [
       "Call Id                         0\n",
       "Agent                           0\n",
       "Date                            0\n",
       "Time                            0\n",
       "Topic                           0\n",
       "Answered (Y/N)                  0\n",
       "Resolved                        0\n",
       "Speed of answer in seconds    946\n",
       "AvgTalkDuration               946\n",
       "Satisfaction rating           946\n",
       "dtype: int64"
      ]
     },
     "execution_count": 7,
     "metadata": {},
     "output_type": "execute_result"
    }
   ],
   "source": [
    "#Cleaning Call Center Dataset\n",
    "data.info()\n",
    "data.isna().sum()"
   ]
  },
  {
   "cell_type": "code",
   "execution_count": 11,
   "metadata": {},
   "outputs": [
    {
     "data": {
      "text/plain": [
       "Call Id                       0\n",
       "Agent                         0\n",
       "Date                          0\n",
       "Time                          0\n",
       "Topic                         0\n",
       "Answered (Y/N)                0\n",
       "Resolved                      0\n",
       "Speed of answer in seconds    0\n",
       "AvgTalkDuration               0\n",
       "Satisfaction rating           0\n",
       "dtype: int64"
      ]
     },
     "execution_count": 11,
     "metadata": {},
     "output_type": "execute_result"
    }
   ],
   "source": [
    "data.dropna(subset=['Speed of answer in seconds'], inplace=True)\n",
    "data.dropna(subset=['AvgTalkDuration'], inplace =True)\n",
    "data.dropna(subset=['Satisfaction rating'], inplace=True)\n",
    "\n",
    "data.isna().sum()"
   ]
  },
  {
   "cell_type": "code",
   "execution_count": 9,
   "metadata": {},
   "outputs": [
    {
     "name": "stdout",
     "output_type": "stream",
     "text": [
      "<class 'pandas.core.frame.DataFrame'>\n",
      "RangeIndex: 1129 entries, 0 to 1128\n",
      "Data columns (total 16 columns):\n",
      " #   Column        Non-Null Count  Dtype  \n",
      "---  ------        --------------  -----  \n",
      " 0   stage         1129 non-null   int64  \n",
      " 1   event         1129 non-null   object \n",
      " 2   gender        1129 non-null   float64\n",
      " 3   age           1129 non-null   object \n",
      " 4   industry      1129 non-null   object \n",
      " 5   profession    1129 non-null   object \n",
      " 6   traffic       1129 non-null   object \n",
      " 7   coach         1129 non-null   object \n",
      " 8   head_gender   1129 non-null   object \n",
      " 9   greywage      1129 non-null   object \n",
      " 10  way           1129 non-null   float64\n",
      " 11  extraversion  1129 non-null   float64\n",
      " 12  independ      1129 non-null   float64\n",
      " 13  selfcontrol   1129 non-null   float64\n",
      " 14  anxiety       1129 non-null   float64\n",
      " 15  novator       0 non-null      float64\n",
      "dtypes: float64(7), int64(1), object(8)\n",
      "memory usage: 141.3+ KB\n"
     ]
    },
    {
     "data": {
      "text/plain": [
       "stage              0\n",
       "event              0\n",
       "gender             0\n",
       "age                0\n",
       "industry           0\n",
       "profession         0\n",
       "traffic            0\n",
       "coach              0\n",
       "head_gender        0\n",
       "greywage           0\n",
       "way                0\n",
       "extraversion       0\n",
       "independ           0\n",
       "selfcontrol        0\n",
       "anxiety            0\n",
       "novator         1129\n",
       "dtype: int64"
      ]
     },
     "execution_count": 9,
     "metadata": {},
     "output_type": "execute_result"
    }
   ],
   "source": [
    "#Cleaning Turnover\n",
    "df2.info()\n",
    "df2.isna().sum()"
   ]
  },
  {
   "cell_type": "code",
   "execution_count": 16,
   "metadata": {},
   "outputs": [
    {
     "data": {
      "text/plain": [
       "stage           0\n",
       "event           0\n",
       "gender          0\n",
       "age             0\n",
       "industry        0\n",
       "profession      0\n",
       "traffic         0\n",
       "coach           0\n",
       "head_gender     0\n",
       "greywage        0\n",
       "way             0\n",
       "extraversion    0\n",
       "independ        0\n",
       "selfcontrol     0\n",
       "anxiety         0\n",
       "novator         0\n",
       "dtype: int64"
      ]
     },
     "execution_count": 16,
     "metadata": {},
     "output_type": "execute_result"
    }
   ],
   "source": [
    "df2.dropna(subset=['novator'], inplace=True)\n",
    "\n",
    "df2.isna().sum()"
   ]
  },
  {
   "cell_type": "markdown",
   "metadata": {},
   "source": [
    "## Data Visualization"
   ]
  },
  {
   "cell_type": "code",
   "execution_count": 17,
   "metadata": {},
   "outputs": [
    {
     "data": {
      "text/plain": [
       "<Axes: xlabel='Topic'>"
      ]
     },
     "execution_count": 17,
     "metadata": {},
     "output_type": "execute_result"
    },
    {
     "data": {
      "image/png": "[encoded data removed]",
      "text/plain": [
       "<Figure size 640x480 with 1 Axes>"
      ]
     },
     "metadata": {},
     "output_type": "display_data"
    }
   ],
   "source": [
    "data.groupby('Topic')['Satisfaction rating'].mean().plot.bar()\n"
   ]
  },
  {
   "cell_type": "code",
   "execution_count": 15,
   "metadata": {},
   "outputs": [
    {
     "data": {
      "text/plain": [
       "<Axes: ylabel='Frequency'>"
      ]
     },
     "execution_count": 15,
     "metadata": {},
     "output_type": "execute_result"
    },
    {
     "data": {
      "image/png": "[encoded data removed]",
      "text/plain": [
       "<Figure size 640x480 with 1 Axes>"
      ]
     },
     "metadata": {},
     "output_type": "display_data"
    }
   ],
   "source": [
    "train['Resource Allocation'].plot.hist(bins=40)\n"
   ]
  },
  {
   "cell_type": "code",
   "execution_count": 16,
   "metadata": {},
   "outputs": [
    {
     "data": {
      "text/plain": [
       "<Axes: ylabel='Frequency'>"
      ]
     },
     "execution_count": 16,
     "metadata": {},
     "output_type": "execute_result"
    },
    {
     "data": {
      "image/png": "[encoded data removed]",
      "text/plain": [
       "<Figure size 640x480 with 1 Axes>"
      ]
     },
     "metadata": {},
     "output_type": "display_data"
    }
   ],
   "source": [
    "train['Mental Fatigue Score'].plot.hist(bins=40)\n"
   ]
  },
  {
   "cell_type": "code",
   "execution_count": 17,
   "metadata": {},
   "outputs": [
    {
     "data": {
      "text/plain": [
       "<Axes: ylabel='Frequency'>"
      ]
     },
     "execution_count": 17,
     "metadata": {},
     "output_type": "execute_result"
    },
    {
     "data": {
      "image/png": "[encoded data removed]",
      "text/plain": [
       "<Figure size 640x480 with 1 Axes>"
      ]
     },
     "metadata": {},
     "output_type": "display_data"
    }
   ],
   "source": [
    "train['Designation'].plot.hist(bins=40)"
   ]
  },
  {
   "cell_type": "code",
   "execution_count": 44,
   "metadata": {},
   "outputs": [],
   "source": [
    "import matplotlib as mpl\n",
    "import matplotlib.pyplot as plt\n",
    "import seaborn as sns\n",
    "\n",
    "\n"
   ]
  },
  {
   "cell_type": "code",
   "execution_count": null,
   "metadata": {},
   "outputs": [],
   "source": []
  },
  {
   "cell_type": "markdown",
   "metadata": {},
   "source": [
    "## Machine Learning Plan\n",
    "\n",
    "Below are some considerations I will be making when developing my machine learning plan.\n",
    "\n",
    "### Types of Machine Learning:\n",
    "\n",
    "1. **Regression Analysis:**\n",
    "   - **Use Case:** Predicting employee burnout rate based on factors such as resource allocation, mental fatigue score, and designation level.\n",
    "   - **Potential Insights:** Identifying key factors contributing to higher burnout rates and enabling targeted interventions to improve retention.\n",
    "\n",
    "2. **Clustering:**\n",
    "   - **Use Case:** Grouping employees based on mental fatigue scores, resource allocation, and designation to identify common patterns.\n",
    "   - **Potential Insights:** Highlighting clusters of employees at higher risk of burnout to prioritize support strategies.\n",
    "\n",
    "3. **Classification:**\n",
    "   - **Use Case:** Predicting whether an employee is likely to leave the organization based on demographic and workplace factors.\n",
    "   - **Potential Insights:** Enabling proactive measures to address potential turnover by identifying at-risk employees.\n",
    "\n",
    "\n",
    "### Issues and Challenges:\n",
    "\n",
    "1. **Data Quality and Completeness:**\n",
    "   - **Issue:** Missing values in key columns such as \"Mental Fatigue Score,\" \"Burn Rate,\" and \"Speed of Answer in Seconds.\"\n",
    "   - **Challenge:** Implementing robust data cleaning techniques, such as imputation or removing rows/columns with excessive missing values, to ensure data quality.\n",
    "\n",
    "2. **Feature Selection:**\n",
    "   - **Issue:** Identifying relevant features across datasets that contribute meaningfully to burnout and retention analysis.\n",
    "   - **Challenge:**Employing feature selection methods to focus on impactful variables.\n",
    "\n",
    "3. **Data Integration:**\n",
    "   - **Issue:** Combining diverse datasets (e.g., call center metrics, employee details, turnover events) with varying formats and levels of granularity.\n",
    "   - **Challenge:** Developing a unified schema and resolving inconsistencies (e.g., differing time frames or employee identifiers) for seamless integration.\n",
    "\n",
    "4. **Imbalanced Datasets:**\n",
    "   - **Issue:** Certain outcomes, such as employees with extremely high burnout rates or rare turnover events, may be underrepresented.\n",
    "   - **Challenge:** Addressing class imbalance through techniques like oversampling, undersampling, or using specialized algorithms.\n",
    "\n",
    "5. **Data Privacy and Confidentiality:**\n",
    "   - **Issue:** Handling sensitive employee information responsibly while analyzing datasets.\n",
    "   - **Challenge:** Ensuring compliance with data protection standards by anonymizing personal identifiers and securing data storage."
   ]
  },
  {
   "attachments": {},
   "cell_type": "markdown",
   "metadata": {},
   "source": [
    "## Resources and References\n",
    "*What resources and references have you used for this project?*\n",
    "I used Kaggle and the U.S Bureau of Labor Statistics (BLS). Three of my datasets came from Kaggle, and with BLS, I got to customize of their reports on the site, which I pulled as a OES_Report.csv"
   ]
  },
  {
   "cell_type": "code",
   "execution_count": 20,
   "metadata": {},
   "outputs": [
    {
     "name": "stderr",
     "output_type": "stream",
     "text": [
      "[NbConvertApp] Converting notebook source.ipynb to python\n",
      "[NbConvertApp] Writing 5971 bytes to source.py\n"
     ]
    }
   ],
   "source": [
    "# ⚠️ Make sure you run this cell at the end of your notebook before every submission!\n",
    "!jupyter nbconvert --to python source.ipynb"
   ]
  }
 ],
 "metadata": {
  "kernelspec": {
   "display_name": "Python 3",
   "language": "python",
   "name": "python3"
  },
  "language_info": {
   "codemirror_mode": {
    "name": "ipython",
    "version": 3
   },
   "file_extension": ".py",
   "mimetype": "text/x-python",
   "name": "python",
   "nbconvert_exporter": "python",
   "pygments_lexer": "ipython3",
   "version": "3.12.5"
  },
  "orig_nbformat": 4
 },
 "nbformat": 4,
 "nbformat_minor": 2
}
